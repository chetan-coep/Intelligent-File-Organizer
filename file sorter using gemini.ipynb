{
  "nbformat": 4,
  "nbformat_minor": 0,
  "metadata": {
    "colab": {
      "provenance": []
    },
    "kernelspec": {
      "name": "python3",
      "display_name": "Python 3"
    },
    "language_info": {
      "name": "python"
    }
  },
  "cells": [
    {
      "cell_type": "code",
      "execution_count": 1,
      "metadata": {
        "colab": {
          "base_uri": "https://localhost:8080/",
          "height": 381
        },
        "id": "ShpSb9pTazT2",
        "outputId": "f52f36f7-9575-4fa5-ec57-3908003cfcdb"
      },
      "outputs": [
        {
          "output_type": "stream",
          "name": "stdout",
          "text": [
            "✅ Gemini API configured successfully!\n",
            "\n",
            "📂 Created a messy folder.\n",
            "========================================\n",
            "\n",
            "🚀 Starting the organization process...\n",
            "\n",
            "File: 'sales_data_2025.csv'  ->  🤖 Category: Data\n",
            "File: 'vacation_photo.jpg'  ->  🤖 Category: Images\n",
            "   -> ❗️ Attempt 1 failed for 'report_q3.txt'.\n",
            "   -> ⏳ Retrying in 5 seconds...\n",
            "File: 'report_q3.txt'  ->  🤖 Category: Documents\n",
            "File: 'archive.zip'  ->  🤖 Category: Archives\n",
            "File: 'app_styles.css'  ->  🤖 Category: Code\n",
            "File: 'notes_on_ai.txt'  ->  🤖 Category: Documents\n",
            "File: 'meeting_transcript_aug_1.txt'  ->  🤖 Category: Documents\n",
            "   -> ❗️ Attempt 1 failed for 'project_alpha.py'.\n",
            "   -> ⏳ Retrying in 5 seconds...\n",
            "File: 'project_alpha.py'  ->  🤖 Category: Code\n",
            "\n",
            "✨ Organization complete!\n"
          ]
        }
      ],
      "source": [
        "# Install the Google AI Python SDK\n",
        "!pip install -q google-generativeai\n",
        "\n",
        "import google.generativeai as genai\n",
        "from google.colab import userdata\n",
        "import os\n",
        "import shutil\n",
        "import time\n",
        "\n",
        "# --- 1. CONFIGURE THE API KEY ---\n",
        "try:\n",
        "    api_key = userdata.get('GEMINI_API_KEY')\n",
        "    genai.configure(api_key=api_key)\n",
        "    print(\"✅ Gemini API configured successfully!\")\n",
        "except Exception as e:\n",
        "    print(f\"🛑 Configuration failed. Error: {e}\")\n",
        "\n",
        "# --- 2. CREATE THE MESSY FOLDER AND FILES ---\n",
        "if os.path.exists('my_messy_folder'):\n",
        "    shutil.rmtree('my_messy_folder')\n",
        "os.makedirs('my_messy_folder', exist_ok=True)\n",
        "dummy_files = {\n",
        "    \"report_q3.txt\": \"This is the quarterly financial report for Q3.\",\n",
        "    \"project_alpha.py\": \"import os\\n\\nprint('Hello from project alpha!')\",\n",
        "    \"vacation_photo.jpg\": \"some_image_data_here\",\n",
        "    \"notes_on_ai.txt\": \"Gemini is a large language model from Google.\",\n",
        "    \"sales_data_2025.csv\": \"Date,Product,Revenue\\n2025-08-01,Widget,500\",\n",
        "    \"archive.zip\": \"some_zip_data\",\n",
        "    \"app_styles.css\": \"body { font-family: 'Arial', sans-serif; }\",\n",
        "    \"meeting_transcript_aug_1.txt\": \"Discussion points from the Friday meeting.\"\n",
        "}\n",
        "for filename, content in dummy_files.items():\n",
        "    with open(os.path.join('my_messy_folder', filename), 'w') as f:\n",
        "        f.write(content)\n",
        "print(\"\\n📂 Created a messy folder.\")\n",
        "print(\"=\"*40 + \"\\n\")\n",
        "\n",
        "\n",
        "# --- 3. DEFINE THE AI CLASSIFICATION FUNCTION (USING FLASH MODEL) ---\n",
        "def get_file_category(file_path):\n",
        "    \"\"\"Uses Gemini to classify a file into a category, with a robust retry mechanism.\"\"\"\n",
        "    max_retries = 3\n",
        "    retry_delay = 5\n",
        "\n",
        "    for attempt in range(max_retries):\n",
        "        try:\n",
        "            with open(file_path, 'r', errors='ignore') as f:\n",
        "                content_preview = f.read(5000)\n",
        "\n",
        "            categories = [\"Code\", \"Documents\", \"Images\", \"Data\", \"Archives\", \"Web\", \"Other\"]\n",
        "            prompt = f\"\"\"\n",
        "            Analyze the file name and content, then classify it into one category: {', '.join(categories)}.\n",
        "            Return only the single category name.\n",
        "            File: \"{os.path.basename(file_path)}\"\n",
        "            Content: \"{content_preview}\"\n",
        "            Category:\n",
        "            \"\"\"\n",
        "\n",
        "            # --- CHANGE 1: Using the faster 'flash' model ---\n",
        "            model = genai.GenerativeModel('gemini-2.5-flash')\n",
        "            response = model.generate_content(prompt)\n",
        "\n",
        "            category = response.text.strip().replace('*', '')\n",
        "\n",
        "            if category in categories:\n",
        "                return category\n",
        "            else:\n",
        "                for valid_cat in categories:\n",
        "                    if valid_cat in category:\n",
        "                        return valid_cat\n",
        "                return \"Other\"\n",
        "\n",
        "        except Exception as e:\n",
        "            print(f\"   -> ❗️ Attempt {attempt + 1} failed for '{os.path.basename(file_path)}'.\")\n",
        "            if attempt < max_retries - 1:\n",
        "                print(f\"   -> ⏳ Retrying in {retry_delay} seconds...\")\n",
        "                time.sleep(retry_delay)\n",
        "                retry_delay *= 2\n",
        "            else:\n",
        "                print(f\"   -> 🛑 All retries failed. Assigning 'Other'.\")\n",
        "                return \"Other\"\n",
        "    return \"Other\"\n",
        "\n",
        "# --- 4. RUN THE ORGANIZATION SCRIPT (WITH A DELAY) ---\n",
        "source_dir = 'my_messy_folder'\n",
        "print(\"🚀 Starting the organization process...\\n\")\n",
        "\n",
        "files_to_organize = [f for f in os.listdir(source_dir) if os.path.isfile(os.path.join(source_dir, f))]\n",
        "\n",
        "for filename in files_to_organize:\n",
        "    file_path = os.path.join(source_dir, filename)\n",
        "    category = get_file_category(file_path)\n",
        "    print(f\"File: '{filename}'  ->  🤖 Category: {category}\")\n",
        "\n",
        "    target_dir = os.path.join(source_dir, category)\n",
        "    os.makedirs(target_dir, exist_ok=True)\n",
        "\n",
        "    shutil.move(file_path, target_dir)\n",
        "\n",
        "    time.sleep(1)\n",
        "\n",
        "print(\"\\n✨ Organization complete!\")"
      ]
    },
    {
      "cell_type": "code",
      "source": [
        "\n",
        "!ls -R my_messy_folder\n"
      ],
      "metadata": {
        "colab": {
          "base_uri": "https://localhost:8080/"
        },
        "id": "cs8a5YP7dEol",
        "outputId": "500eab57-3c9e-4665-971c-5d2110659d14"
      },
      "execution_count": 2,
      "outputs": [
        {
          "output_type": "stream",
          "name": "stdout",
          "text": [
            "my_messy_folder:\n",
            "Archives  Code\tData  Documents  Images\n",
            "\n",
            "my_messy_folder/Archives:\n",
            "archive.zip\n",
            "\n",
            "my_messy_folder/Code:\n",
            "app_styles.css\tproject_alpha.py\n",
            "\n",
            "my_messy_folder/Data:\n",
            "sales_data_2025.csv\n",
            "\n",
            "my_messy_folder/Documents:\n",
            "meeting_transcript_aug_1.txt  notes_on_ai.txt  report_q3.txt\n",
            "\n",
            "my_messy_folder/Images:\n",
            "vacation_photo.jpg\n"
          ]
        }
      ]
    }
  ]
}